{
 "cells": [
  {
   "cell_type": "markdown",
   "id": "422f750d-704a-4ad4-a2a5-5aeeb457d8b2",
   "metadata": {},
   "source": [
    "# Пример использования Jupyter Notebook со Spark ВАРИАНТ 1"
   ]
  },
  {
   "cell_type": "code",
   "execution_count": 3,
   "id": "48ff2878-eaa3-4827-bb1f-fec96cc76b92",
   "metadata": {},
   "outputs": [],
   "source": [
    "import findspark\n",
    "findspark.init('/opt/spark')  # Указывает на установку Spark"
   ]
  },
  {
   "cell_type": "code",
   "execution_count": 5,
   "id": "0d1b77b2-a366-4ee9-bad2-5911749a6dfe",
   "metadata": {},
   "outputs": [],
   "source": [
    "import pyspark\n",
    "from pyspark.sql import SparkSession"
   ]
  },
  {
   "cell_type": "code",
   "execution_count": 7,
   "id": "54ee3b75-ecfc-44d0-a8ab-e5565792fe9c",
   "metadata": {},
   "outputs": [
    {
     "name": "stderr",
     "output_type": "stream",
     "text": [
      "Setting default log level to \"WARN\".\n",
      "To adjust logging level use sc.setLogLevel(newLevel). For SparkR, use setLogLevel(newLevel).\n",
      "24/09/24 16:01:16 WARN NativeCodeLoader: Unable to load native-hadoop library for your platform... using builtin-java classes where applicable\n"
     ]
    }
   ],
   "source": [
    "spark = SparkSession.builder.master(\"local[*]\").appName(\"My Spark Application\").getOrCreate()\n",
    "sc = spark.sparkContext"
   ]
  },
  {
   "cell_type": "code",
   "execution_count": 9,
   "id": "45e58eff-55b2-43e2-85de-3597abd24574",
   "metadata": {},
   "outputs": [
    {
     "name": "stderr",
     "output_type": "stream",
     "text": [
      "                                                                                \r"
     ]
    },
    {
     "data": {
      "text/plain": [
       "[66, 38, 47, 30, 43]"
      ]
     },
     "execution_count": 9,
     "metadata": {},
     "output_type": "execute_result"
    }
   ],
   "source": [
    "# Пример простой работы со Spark\n",
    "rdd = sc.parallelize(range(100))\n",
    "rdd.takeSample(False, 5)  # Вернет случайные 5 элементов из RDD"
   ]
  },
  {
   "cell_type": "code",
   "execution_count": 11,
   "id": "72e3c542-487c-4f5b-ab42-ac87243958d4",
   "metadata": {},
   "outputs": [],
   "source": [
    "sc.stop()"
   ]
  }
 ],
 "metadata": {
  "kernelspec": {
   "display_name": "Python 3 (ipykernel)",
   "language": "python",
   "name": "python3"
  },
  "language_info": {
   "codemirror_mode": {
    "name": "ipython",
    "version": 3
   },
   "file_extension": ".py",
   "mimetype": "text/x-python",
   "name": "python",
   "nbconvert_exporter": "python",
   "pygments_lexer": "ipython3",
   "version": "3.12.2"
  }
 },
 "nbformat": 4,
 "nbformat_minor": 5
}
